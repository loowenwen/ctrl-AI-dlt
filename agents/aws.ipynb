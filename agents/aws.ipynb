{
 "cells": [
  {
   "cell_type": "markdown",
   "id": "bf9903ea",
   "metadata": {},
   "source": [
    "To get AWS credentials for a specific profile, you can use the AWS CLI command\n",
    "\n",
    "`aws sts get-caller-identity --profile myisb01_IsbUsersPS-371061166839`\n",
    "\n",
    "Make sure to set the AWS_PROFILE environment variable in your shell\n",
    "\n",
    "`export AWS_PROFILE=myisb01_IsbUsersPS-371061166839`\n",
    "\n",
    "Then run the agent script\n",
    "\n",
    "`python agents/agent.py`"
   ]
  }
 ],
 "metadata": {
  "kernelspec": {
   "display_name": "venv",
   "language": "python",
   "name": "python3"
  },
  "language_info": {
   "name": "python",
   "version": "3.13.6"
  }
 },
 "nbformat": 4,
 "nbformat_minor": 5
}
