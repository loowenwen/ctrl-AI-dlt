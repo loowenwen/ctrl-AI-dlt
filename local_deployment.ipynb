{
 "cells": [
  {
   "cell_type": "markdown",
   "id": "2f886b24",
   "metadata": {},
   "source": [
    "# How To Deploy Locally"
   ]
  },
  {
   "cell_type": "markdown",
   "id": "50f0f0ab",
   "metadata": {},
   "source": [
    "## Start Backend (FastAPI)\n",
    "\n",
    "Open a terminal:\n",
    "\n",
    "```bash\n",
    "cd /path/to/repo/backend\n",
    "# activate venv if needed\n",
    "uvicorn main:app --reload\n",
    "```\n",
    "\n",
    "## Start Frontend (React)**\n",
    "\n",
    "Open a separate terminal:\n",
    "\n",
    "```bash\n",
    "cd /path/to/repo/frontend\n",
    "npm start\n",
    "```\n",
    "\n",
    "## Connect Frontend to Backend**\n",
    "\n",
    "In React code (e.g., `App.js`):\n",
    "\n",
    "```javascript\n",
    "const response = await axios.post(\"http://127.0.0.1:8000/check_eligibility\", {...});\n",
    "```\n",
    "\n",
    "Make sure your FastAPI backend allows **CORS** from `http://localhost:3000`:\n",
    "\n",
    "```python\n",
    "from fastapi.middleware.cors import CORSMiddleware\n",
    "\n",
    "app.add_middleware(\n",
    "    CORSMiddleware,\n",
    "    allow_origins=[\"http://localhost:3000\"],\n",
    "    allow_credentials=True,\n",
    "    allow_methods=[\"*\"],\n",
    "    allow_headers=[\"*\"],\n",
    ")\n",
    "```\n",
    "\n",
    "## Development Workflow\n",
    "\n",
    "1. Open code editor with both **frontend** and **backend**.\n",
    "2. Start backend: `uvicorn main:app --reload`\n",
    "3. Start frontend: `npm start`\n",
    "4. Edit frontend components (`App.js`, CSS, etc.) → browser reloads automatically.\n",
    "5. Test API calls → see responses from backend immediately."
   ]
  }
 ],
 "metadata": {
  "language_info": {
   "name": "python"
  }
 },
 "nbformat": 4,
 "nbformat_minor": 5
}
