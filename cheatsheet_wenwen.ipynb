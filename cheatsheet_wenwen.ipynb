{
 "cells": [
  {
   "cell_type": "markdown",
   "id": "bf9903ea",
   "metadata": {},
   "source": [
    "# Cheatsheet"
   ]
  },
  {
   "cell_type": "markdown",
   "id": "5e708998",
   "metadata": {},
   "source": [
    "## How to Set Up Credentials for AWS "
   ]
  },
  {
   "cell_type": "code",
   "execution_count": null,
   "id": "30ba5050",
   "metadata": {},
   "outputs": [],
   "source": [
    "# step 1: ensure you have AWS CLI installed and configured with SSO\n",
    "# step 2: login to your AWS SSO profile\n",
    "aws sso login --profile myisb01_IsbUsersPS-371061166839\n",
    "\n",
    "# step 3: verify you can access AWS with the profile\n",
    "aws sts get-caller-identity --profile myisb01_IsbUsersPS-371061166839\n",
    "\n",
    "# step 4: set the AWS_PROFILE environment variable to use the profile\n",
    "export AWS_PROFILE=myisb01_IsbUsersPS-371061166839"
   ]
  },
  {
   "cell_type": "markdown",
   "id": "4726fd98",
   "metadata": {},
   "source": [
    "## To Deploy Frontend and Backend"
   ]
  },
  {
   "cell_type": "code",
   "execution_count": null,
   "id": "fd226c7a",
   "metadata": {},
   "outputs": [],
   "source": [
    "# backend deployment in terminal\n",
    "source venv/bin/activate\n",
    "# only if your venv is missing dependencies\n",
    "## pip install -r requirements.txt\n",
    "uvicorn backend.main:app --host 0.0.0.0 --port 8000\n",
    "\n",
    "# frontend deployment in a new terminal\n",
    "cd frontend\n",
    "# only if your node modules are missing\n",
    "## npm install \n",
    "npm start\n"
   ]
  },
  {
   "cell_type": "markdown",
   "id": "5fb63474",
   "metadata": {},
   "source": [
    "## To Set Up Lambda Functions (Attempting)"
   ]
  },
  {
   "cell_type": "code",
   "execution_count": null,
   "id": "4ac38289",
   "metadata": {},
   "outputs": [],
   "source": [
    "make ecr-create REGION=us-east-1\n",
    "make login-ecr REGION=us-east-1\n",
    "make push-budget REGION=us-east-1\n",
    "make push-cost REGION=us-east-1\n",
    "make lambda-create-budget REGION=us-east-1\n",
    "make lambda-create-cost REGION=us-east-1"
   ]
  },
  {
   "cell_type": "code",
   "execution_count": null,
   "id": "71d36925",
   "metadata": {},
   "outputs": [],
   "source": [
    "# create or update the lambda\n",
    "# first time\n",
    "make lambda-create-cost REGION=us-east-1\n",
    "\n",
    "# subsequent updates\n",
    "make lambda-update-cost REGION=us-east-1"
   ]
  },
  {
   "cell_type": "code",
   "execution_count": null,
   "id": "696ff6f6",
   "metadata": {},
   "outputs": [],
   "source": [
    "# updating after code changes\n",
    "\n",
    "# rebuild/push:\n",
    "make push-budget REGION=us-east-1 (or push-budget-nocache)\n",
    "make push-cost REGION=us-east-1 (or push-cost-nocache)\n",
    "\n",
    "# update lambda to new image:\n",
    "make lambda-update-budget REGION=us-east-1\n",
    "make lambda-update-cost REGION=us-east-1"
   ]
  },
  {
   "cell_type": "code",
   "execution_count": null,
   "id": "0111cd00",
   "metadata": {},
   "outputs": [],
   "source": [
    "# push images with buildx (gzip) and architecture set to match your lambda\n",
    "make push-budget-buildx REGION=us-east-1 ARCH=arm64\n",
    "make push-cost-buildx REGION=us-east-1 ARCH=arm64\n",
    "\n",
    "# create functions\n",
    "make lambda-create-budget REGION=us-east-1 ARCH=arm64\n",
    "make lambda-create-cost REGION=us-east-1 ARCH=arm64\n",
    "\n",
    "# expose URLs\n",
    "make url-budget REGION=us-east-1 && make print-url-budget REGION=us-east-1\n",
    "make url-cost REGION=us-east-1 && make print-url-cost REGION=us-east-1\n",
    "\n",
    "# if still hit the media-type error, re-run with no-cache to avoid reusing problematic local layers\n",
    "docker buildx build --no-cache --platform linux/arm64 -f deploy/Dockerfile.budget -t $ECR_BUDGET:latest --provenance=false --sbom=false --output type=image,compression=gzip --push .\n",
    "docker buildx build --no-cache --platform linux/arm64 -f deploy/Dockerfile.cost -t $ECR_COST:latest --provenance=false --sbom=false --output type=image,compression=gzip --push .\n",
    "\n",
    "# after deploy\n",
    "# tail logs to confirm execution\n",
    "aws logs tail /aws/lambda/bto-budget-estimator --follow --region us-east-1\n",
    "aws logs tail /aws/lambda/bto-cost-estimator --follow --region us-east-1"
   ]
  }
 ],
 "metadata": {
  "kernelspec": {
   "display_name": "venv",
   "language": "python",
   "name": "python3"
  },
  "language_info": {
   "name": "python",
   "version": "3.13.6"
  }
 },
 "nbformat": 4,
 "nbformat_minor": 5
}
